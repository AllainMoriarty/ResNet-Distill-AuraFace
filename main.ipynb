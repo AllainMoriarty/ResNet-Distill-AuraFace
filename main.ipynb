{
 "cells": [
  {
   "cell_type": "code",
   "execution_count": 1,
   "id": "2bfe6f52",
   "metadata": {},
   "outputs": [],
   "source": [
    "import torch\n",
    "from torch.cuda.amp import autocast, GradScaler\n",
    "import torch.nn as nn\n",
    "import torch.nn.functional as F\n",
    "import torch.optim as optim\n",
    "from torch.optim.lr_scheduler import StepLR\n",
    "from torch.utils.data import DataLoader, Subset, ConcatDataset, Dataset\n",
    "from torchvision import datasets, transforms, models\n",
    "import mxnet as mx\n",
    "from mxnet import recordio\n",
    "import onnxruntime as ort\n",
    "import os\n",
    "import numpy as np\n",
    "from tqdm.notebook import tqdm\n",
    "from PIL import Image\n",
    "from collections import defaultdict\n",
    "import warnings\n",
    "warnings.filterwarnings(\"ignore\", message=\".*VerifyOutputSizes.*\")"
   ]
  },
  {
   "cell_type": "code",
   "execution_count": 28,
   "id": "e67bc1c9",
   "metadata": {},
   "outputs": [],
   "source": [
    "train_transform = transforms.Compose([\n",
    "    transforms.Resize((112, 112)),\n",
    "    transforms.RandomHorizontalFlip(p=0.5),\n",
    "    transforms.ColorJitter(brightness=0.1, contrast=0.1, saturation=0.1, hue=0.05),\n",
    "    transforms.RandomRotation(degrees=10), \n",
    "    transforms.RandomAffine(degrees=0, translate=(0.05, 0.05), scale=(0.95, 1.05)), \n",
    "    transforms.ToTensor(),\n",
    "    transforms.Normalize(mean=[0.485, 0.456, 0.406], std=[0.229, 0.224, 0.225])\n",
    "])\n",
    "\n",
    "val_transform = transforms.Compose([\n",
    "    transforms.Resize((112, 112)),\n",
    "    transforms.ToTensor(),\n",
    "    transforms.Normalize(mean=[0.485, 0.456, 0.406], std=[0.229, 0.224, 0.225])\n",
    "])"
   ]
  },
  {
   "cell_type": "code",
   "execution_count": 3,
   "id": "36463b14",
   "metadata": {},
   "outputs": [],
   "source": [
    "rec_path = './faces_vgg_112x112/train.rec'\n",
    "idx_path = './faces_vgg_112x112/train.idx'"
   ]
  },
  {
   "cell_type": "code",
   "execution_count": 4,
   "id": "8fb37192",
   "metadata": {},
   "outputs": [],
   "source": [
    "class MXNetRecordDataset(Dataset):\n",
    "    def __init__(self, rec_path, idx_path, transform=None):\n",
    "        self.record = recordio.MXIndexedRecordIO(idx_path, rec_path, 'r')\n",
    "        self.keys = list(self.record.keys)\n",
    "        self.transform = transform\n",
    "\n",
    "    def set_transform(self, transform):\n",
    "        self.transform = transform\n",
    "\n",
    "    def __len__(self):\n",
    "        return len(self.keys)\n",
    "\n",
    "    def __getitem__(self, idx):\n",
    "        # Loop sampai dapat sample valid\n",
    "        for _ in range(len(self.keys)):\n",
    "            key = self.keys[idx]\n",
    "            item = self.record.read_idx(key)\n",
    "\n",
    "            if item is None:\n",
    "                # Ganti index → lanjut ke sample berikut\n",
    "                idx = (idx + 1) % len(self)\n",
    "                continue\n",
    "\n",
    "            header, img_encoded = recordio.unpack(item)\n",
    "            if img_encoded is None or len(img_encoded) == 0:\n",
    "                # Ganti index → lanjut ke sample berikut\n",
    "                idx = (idx + 1) % len(self)\n",
    "                continue\n",
    "\n",
    "            try:\n",
    "                img = mx.image.imdecode(img_encoded)\n",
    "            except Exception:\n",
    "                # Kalau decoding gagal, skip\n",
    "                idx = (idx + 1) % len(self)\n",
    "                continue\n",
    "\n",
    "            img = Image.fromarray(img.asnumpy())\n",
    "            label = int(header.label)\n",
    "\n",
    "            if self.transform:\n",
    "                img = self.transform(img)\n",
    "\n",
    "            return img, label\n",
    "\n",
    "        # Kalau semua gagal (harusnya jarang banget)\n",
    "        raise RuntimeError(\"Semua sample tidak valid dalam .rec file\")"
   ]
  },
  {
   "cell_type": "code",
   "execution_count": 5,
   "id": "a51185ff",
   "metadata": {},
   "outputs": [],
   "source": [
    "class TransformableDataset(Dataset):\n",
    "    def __init__(self, base_dataset, transform=None):\n",
    "        self.base_dataset = base_dataset\n",
    "        self.transform = transform\n",
    "\n",
    "    def __getitem__(self, idx):\n",
    "        img, label = self.base_dataset[idx]\n",
    "        if self.transform:\n",
    "            img = self.transform(img)\n",
    "        return img, label\n",
    "\n",
    "    def __len__(self):\n",
    "        return len(self.base_dataset)\n",
    "\n",
    "    def set_transform(self, transform):\n",
    "        self.transform = transform"
   ]
  },
  {
   "cell_type": "code",
   "execution_count": 6,
   "id": "2df11fb1",
   "metadata": {},
   "outputs": [],
   "source": [
    "def get_train_val_datasets(rec_path, idx_path, val_split=0.1, seed=42, max_samples=None, cache_path=None):\n",
    "    full_dataset = MXNetRecordDataset(rec_path, idx_path)  # original dataset\n",
    "    g = torch.Generator().manual_seed(seed)\n",
    "\n",
    "    # coba load cache\n",
    "    if cache_path:\n",
    "        try:\n",
    "            final_indices = np.load(cache_path)\n",
    "            print(f\"Load cached indices from {cache_path}\")\n",
    "        except FileNotFoundError:\n",
    "            final_indices = None\n",
    "    else:\n",
    "        final_indices = None\n",
    "\n",
    "    if max_samples is not None and final_indices is None:\n",
    "        indices_per_label = defaultdict(list)\n",
    "\n",
    "        # buka .rec/.idx menggunakan MXIndexedRecordIO\n",
    "        recordio = mx.recordio.MXIndexedRecordIO(idx_path, rec_path, 'r')\n",
    "        keys = list(recordio.keys)\n",
    "        \n",
    "        for i, key in enumerate(keys):\n",
    "            header, _ = mx.recordio.unpack(recordio.read_idx(key))\n",
    "            label = int(header.label) if isinstance(header.label, float) else int(header.label[0])\n",
    "            indices_per_label[label].append(i)\n",
    "            if (i+1) % 100000 == 0:\n",
    "                print(f\"Processed {i+1}/{len(keys)} records\")\n",
    "\n",
    "        # sampling per label\n",
    "        final_indices = []\n",
    "        for label, indices in indices_per_label.items():\n",
    "            indices = torch.tensor(indices)\n",
    "            if len(indices) > max_samples:\n",
    "                perm = torch.randperm(len(indices), generator=g)[:max_samples]\n",
    "                indices = indices[perm]\n",
    "            final_indices.extend(indices.tolist())\n",
    "\n",
    "        if cache_path:\n",
    "            np.save(cache_path, final_indices)\n",
    "            print(f\"Saved cached indices to {cache_path}\")\n",
    "\n",
    "    if final_indices is not None:\n",
    "        full_dataset = Subset(full_dataset, final_indices)\n",
    "\n",
    "    full_dataset = TransformableDataset(full_dataset)\n",
    "\n",
    "    # split train/val\n",
    "    num_val = int(val_split * len(full_dataset))\n",
    "    num_train = len(full_dataset) - num_val\n",
    "\n",
    "    train_dataset, val_dataset = torch.utils.data.random_split(\n",
    "        full_dataset,\n",
    "        [num_train, num_val],\n",
    "        generator=g\n",
    "    )\n",
    "    return train_dataset, val_dataset"
   ]
  },
  {
   "cell_type": "code",
   "execution_count": 29,
   "id": "3940aa18",
   "metadata": {},
   "outputs": [
    {
     "name": "stdout",
     "output_type": "stream",
     "text": [
      "Processed 100000/3146439 records\n",
      "Processed 200000/3146439 records\n",
      "Processed 300000/3146439 records\n",
      "Processed 400000/3146439 records\n",
      "Processed 500000/3146439 records\n",
      "Processed 600000/3146439 records\n",
      "Processed 700000/3146439 records\n",
      "Processed 800000/3146439 records\n",
      "Processed 900000/3146439 records\n",
      "Processed 1000000/3146439 records\n",
      "Processed 1100000/3146439 records\n",
      "Processed 1200000/3146439 records\n",
      "Processed 1300000/3146439 records\n",
      "Processed 1400000/3146439 records\n",
      "Processed 1500000/3146439 records\n",
      "Processed 1600000/3146439 records\n",
      "Processed 1700000/3146439 records\n",
      "Processed 1800000/3146439 records\n",
      "Processed 1900000/3146439 records\n",
      "Processed 2000000/3146439 records\n",
      "Processed 2100000/3146439 records\n",
      "Processed 2200000/3146439 records\n",
      "Processed 2300000/3146439 records\n",
      "Processed 2400000/3146439 records\n",
      "Processed 2500000/3146439 records\n",
      "Processed 2600000/3146439 records\n",
      "Processed 2700000/3146439 records\n",
      "Processed 2800000/3146439 records\n",
      "Processed 2900000/3146439 records\n",
      "Processed 3000000/3146439 records\n",
      "Processed 3100000/3146439 records\n"
     ]
    }
   ],
   "source": [
    "train_dataset, val_dataset = get_train_val_datasets(rec_path, idx_path, val_split=0.2, seed=42, max_samples=25)"
   ]
  },
  {
   "cell_type": "code",
   "execution_count": 30,
   "id": "d229b7d7",
   "metadata": {},
   "outputs": [],
   "source": [
    "train_dataset.dataset.set_transform(train_transform)\n",
    "val_dataset.dataset.set_transform(val_transform)"
   ]
  },
  {
   "cell_type": "code",
   "execution_count": 31,
   "id": "097db08f",
   "metadata": {},
   "outputs": [],
   "source": [
    "train_loader = torch.utils.data.DataLoader(train_dataset, batch_size=64, shuffle=True, num_workers=4, pin_memory=True, persistent_workers=True)\n",
    "val_loader = torch.utils.data.DataLoader(val_dataset, batch_size=64, shuffle=False, num_workers=4, pin_memory=True, persistent_workers=True)"
   ]
  },
  {
   "cell_type": "code",
   "execution_count": 18,
   "id": "1775623b",
   "metadata": {},
   "outputs": [],
   "source": [
    "so = ort.SessionOptions()\n",
    "so.log_severity_level = 3\n",
    "teacher_path = './glintr100.onnx'\n",
    "ort_session = ort.InferenceSession(teacher_path, providers=['CUDAExecutionProvider', 'CPUExecutionProvider'], sess_options=so)"
   ]
  },
  {
   "cell_type": "code",
   "execution_count": 32,
   "id": "641a5a80",
   "metadata": {},
   "outputs": [],
   "source": [
    "def get_teacher_embedding(images):\n",
    "    resized = F.interpolate(images, size=(112, 112), mode='bilinear', align_corners=False)\n",
    "    ort_inputs = {ort_session.get_inputs()[0].name: resized.cpu().numpy()}\n",
    "    ort_outs = ort_session.run(None, ort_inputs)\n",
    "    embedding = torch.tensor(ort_outs[0]).to(images.device)\n",
    "    return F.normalize(embedding, p=2, dim=1)"
   ]
  },
  {
   "cell_type": "code",
   "execution_count": 33,
   "id": "77a49f67",
   "metadata": {},
   "outputs": [],
   "source": [
    "class StudentResNet18(nn.Module):\n",
    "    def __init__(self, embedding_size=512, dropout=0.2):\n",
    "        super(StudentResNet18, self).__init__()\n",
    "        base = models.resnet18(weights='DEFAULT')\n",
    "        base.fc = nn.Identity()\n",
    "        self.backbone = base\n",
    "        self.bn = nn.BatchNorm1d(512)\n",
    "        self.dropout = nn.Dropout(p=dropout)\n",
    "        self.embedding = nn.Linear(512, embedding_size)\n",
    "        nn.init.xavier_normal_(self.embedding.weight)\n",
    "        nn.init.constant_(self.embedding.bias, 0)\n",
    "\n",
    "    def forward(self, x):\n",
    "        features = self.backbone(x)\n",
    "        features = self.bn(features)  \n",
    "        features = self.dropout(features)\n",
    "        embeddings = self.embedding(features)\n",
    "        embeddings = F.normalize(embeddings, p=2, dim=1, eps=1e-8)\n",
    "        return embeddings"
   ]
  },
  {
   "cell_type": "code",
   "execution_count": 35,
   "id": "f803b267",
   "metadata": {},
   "outputs": [],
   "source": [
    "class CombinedLoss(nn.Module):\n",
    "    def __init__(self, alpha=0.7, beta=0.3, temperature=4.0):\n",
    "        super(CombinedLoss, self).__init__()\n",
    "        self.alpha = alpha\n",
    "        self.beta = beta\n",
    "        self.temperature = temperature\n",
    "        self.cosine_loss = nn.CosineEmbeddingLoss(margin=0.0)\n",
    "        self.mse_loss = nn.MSELoss()\n",
    "        \n",
    "    def forward(self, student_emb, teacher_emb):\n",
    "        batch_size = student_emb.size(0)\n",
    "        target = torch.ones(batch_size).to(student_emb.device)\\\n",
    "        \n",
    "        cos_loss = self.cosine_loss(student_emb, teacher_emb, target)\n",
    "        mse_loss = self.mse_loss(student_emb / self.temperature, teacher_emb / self.temperature)\n",
    "        \n",
    "        total_loss = self.alpha * cos_loss + self.beta * mse_loss\n",
    "        return total_loss, cos_loss, mse_loss"
   ]
  },
  {
   "cell_type": "code",
   "execution_count": 36,
   "id": "dbe38ae2",
   "metadata": {},
   "outputs": [],
   "source": [
    "def train(student, device, train_loader, val_loader, optimizer, criterion,\n",
    "          epochs=15, resume=False, ckpt_path=\"checkpoint.pth\"):\n",
    "    best_val_cos_sim = 0.0 \n",
    "    patience, patience_counter = 5, 0 \n",
    "    start_epoch = 0\n",
    "\n",
    "    train_losses, val_losses = [], []\n",
    "    train_cos_sims, val_cos_sims = [], []\n",
    "    train_l2s, val_l2s = [], []\n",
    "\n",
    "    scheduler = torch.optim.lr_scheduler.ReduceLROnPlateau(\n",
    "        optimizer, mode='max', factor=0.5, patience=3,\n",
    "        threshold=0.001, min_lr=1e-7\n",
    "    )\n",
    "\n",
    "    # Mixed precision scaler\n",
    "    scaler = GradScaler()\n",
    "\n",
    "    if resume and os.path.exists(ckpt_path):\n",
    "        checkpoint = torch.load(ckpt_path, map_location=device)\n",
    "        student.load_state_dict(checkpoint[\"model_state_dict\"])\n",
    "        optimizer.load_state_dict(checkpoint[\"optimizer_state_dict\"])\n",
    "        scheduler.load_state_dict(checkpoint[\"scheduler_state_dict\"])\n",
    "        start_epoch = checkpoint[\"epoch\"] + 1\n",
    "        best_val_cos_sim = checkpoint.get(\"best_val_cos_sim\", 0.0)\n",
    "        print(f\"Resumed training from epoch {start_epoch} (best val cos sim: {best_val_cos_sim:.4f})\")\n",
    "\n",
    "    for epoch in range(start_epoch, epochs):\n",
    "        student.train()\n",
    "        train_loss, cos_sim_total, l2_total = 0, 0, 0\n",
    "        train_cos_loss_total, train_mse_loss_total = 0, 0\n",
    "\n",
    "        for images, _ in tqdm(train_loader, desc=f\"Epoch {epoch+1}/{epochs} - Training\"):\n",
    "            images = images.to(device)\n",
    "\n",
    "            optimizer.zero_grad()\n",
    "\n",
    "            with autocast():\n",
    "                stud_emb = student(images)\n",
    "                with torch.no_grad():\n",
    "                    teach_emb = get_teacher_embedding(images).to(device)\n",
    "\n",
    "                total_loss, cos_loss, mse_loss = criterion(stud_emb, teach_emb)\n",
    "\n",
    "            # Backward pass dengan gradient scaling\n",
    "            scaler.scale(total_loss).backward()\n",
    "            \n",
    "            # Gradient clipping untuk stabilitas\n",
    "            scaler.unscale_(optimizer)\n",
    "            torch.nn.utils.clip_grad_norm_(student.parameters(), max_norm=1.0)\n",
    "            \n",
    "            scaler.step(optimizer)\n",
    "            scaler.update()\n",
    "\n",
    "            # Metrics tracking\n",
    "            train_loss += total_loss.item()\n",
    "            train_cos_loss_total += cos_loss.item()\n",
    "            train_mse_loss_total += mse_loss.item()\n",
    "            cos_sim_total += F.cosine_similarity(stud_emb, teach_emb, dim=1).mean().item()\n",
    "            l2_total += torch.norm(stud_emb - teach_emb, dim=1).mean().item()\n",
    "\n",
    "        # Average training metrics\n",
    "        avg_train_loss = train_loss / len(train_loader)\n",
    "        avg_train_cos = cos_sim_total / len(train_loader)\n",
    "        avg_train_l2 = l2_total / len(train_loader)\n",
    "        avg_train_cos_loss = train_cos_loss_total / len(train_loader)\n",
    "        avg_train_mse_loss = train_mse_loss_total / len(train_loader)\n",
    "\n",
    "        train_losses.append(avg_train_loss)\n",
    "        train_cos_sims.append(avg_train_cos)\n",
    "        train_l2s.append(avg_train_l2)\n",
    "\n",
    "        # Validation\n",
    "        student.eval()\n",
    "        val_loss, cos_sim_total, l2_total = 0, 0, 0\n",
    "        val_cos_loss_total, val_mse_loss_total = 0, 0\n",
    "        \n",
    "        with torch.no_grad():\n",
    "            for images, _ in tqdm(val_loader, desc=f\"Epoch {epoch+1}/{epochs} - Validation\"):\n",
    "                images = images.to(device)\n",
    "\n",
    "                with autocast():\n",
    "                    stud_emb = student(images)\n",
    "                    teach_emb = get_teacher_embedding(images).to(device)\n",
    "                    total_loss, cos_loss, mse_loss = criterion(stud_emb, teach_emb)\n",
    "\n",
    "                val_loss += total_loss.item()\n",
    "                val_cos_loss_total += cos_loss.item()\n",
    "                val_mse_loss_total += mse_loss.item()\n",
    "                cos_sim_total += F.cosine_similarity(stud_emb, teach_emb, dim=1).mean().item()\n",
    "                l2_total += torch.norm(stud_emb - teach_emb, dim=1).mean().item()\n",
    "\n",
    "        # Average validation metrics\n",
    "        avg_val_loss = val_loss / len(val_loader)\n",
    "        avg_val_cos = cos_sim_total / len(val_loader)\n",
    "        avg_val_l2 = l2_total / len(val_loader)\n",
    "        avg_val_cos_loss = val_cos_loss_total / len(val_loader)\n",
    "        avg_val_mse_loss = val_mse_loss_total / len(val_loader)\n",
    "\n",
    "        val_losses.append(avg_val_loss)\n",
    "        val_cos_sims.append(avg_val_cos)\n",
    "        val_l2s.append(avg_val_l2)\n",
    "\n",
    "        print(f\"Epoch {epoch+1:02d} | \"\n",
    "              f\"Train: Loss={avg_train_loss:.4f}, CosSim={avg_train_cos:.4f}, L2={avg_train_l2:.4f}, \"\n",
    "              f\"CosLoss={avg_train_cos_loss:.4f}, MSELoss={avg_train_mse_loss:.4f}\")\n",
    "        print(f\"       | \"\n",
    "              f\"Val: Loss={avg_val_loss:.4f}, CosSim={avg_val_cos:.4f}, L2={avg_val_l2:.4f}, \"\n",
    "              f\"CosLoss={avg_val_cos_loss:.4f}, MSELoss={avg_val_mse_loss:.4f}\")\n",
    "\n",
    "        # Learning rate scheduling berdasarkan validation cosine similarity\n",
    "        scheduler.step(avg_val_cos)\n",
    "\n",
    "        # Early stopping berdasarkan cosine similarity\n",
    "        if avg_val_cos > best_val_cos_sim:\n",
    "            best_val_cos_sim = avg_val_cos\n",
    "            torch.save(student.state_dict(), 'best_student.pth')\n",
    "            print(f\"*** New best model saved! Cosine Similarity: {best_val_cos_sim:.4f} ***\")\n",
    "            patience_counter = 0\n",
    "        else:\n",
    "            patience_counter += 1\n",
    "            if patience_counter >= patience:\n",
    "                print(f\"Early stopping triggered at epoch {epoch+1}\")\n",
    "                print(f\"Best validation cosine similarity: {best_val_cos_sim:.4f}\")\n",
    "                break\n",
    "\n",
    "        # Save checkpoint\n",
    "        torch.save({\n",
    "            \"epoch\": epoch,\n",
    "            \"model_state_dict\": student.state_dict(),\n",
    "            \"optimizer_state_dict\": optimizer.state_dict(),\n",
    "            \"scheduler_state_dict\": scheduler.state_dict(),\n",
    "            \"best_val_cos_sim\": best_val_cos_sim,\n",
    "        }, ckpt_path)\n",
    "\n",
    "    return train_losses, val_losses, train_cos_sims, val_cos_sims, train_l2s, val_l2s"
   ]
  },
  {
   "cell_type": "code",
   "execution_count": 14,
   "id": "933da034",
   "metadata": {},
   "outputs": [
    {
     "name": "stdout",
     "output_type": "stream",
     "text": [
      "Active provider: ['CUDAExecutionProvider', 'CPUExecutionProvider']\n",
      "cuda\n"
     ]
    }
   ],
   "source": [
    "print(\"Active provider:\", ort_session.get_providers())\n",
    "device = torch.device('cuda' if torch.cuda.is_available() else 'cpu')\n",
    "print(device)"
   ]
  },
  {
   "cell_type": "code",
   "execution_count": 37,
   "id": "142a3026",
   "metadata": {},
   "outputs": [
    {
     "name": "stderr",
     "output_type": "stream",
     "text": [
      "/tmp/ipykernel_4261/2001459881.py:17: FutureWarning: `torch.cuda.amp.GradScaler(args...)` is deprecated. Please use `torch.amp.GradScaler('cuda', args...)` instead.\n",
      "  scaler = GradScaler()\n"
     ]
    },
    {
     "data": {
      "application/vnd.jupyter.widget-view+json": {
       "model_id": "709d7d2e24a64a839847e443454b43df",
       "version_major": 2,
       "version_minor": 0
      },
      "text/plain": [
       "Epoch 1/15 - Training:   0%|          | 0/2805 [00:00<?, ?it/s]"
      ]
     },
     "metadata": {},
     "output_type": "display_data"
    },
    {
     "name": "stderr",
     "output_type": "stream",
     "text": [
      "/tmp/ipykernel_4261/2001459881.py:38: FutureWarning: `torch.cuda.amp.autocast(args...)` is deprecated. Please use `torch.amp.autocast('cuda', args...)` instead.\n",
      "  with autocast():\n"
     ]
    },
    {
     "data": {
      "application/vnd.jupyter.widget-view+json": {
       "model_id": "3cd9d04c67b64c4da1f5021658d69d55",
       "version_major": 2,
       "version_minor": 0
      },
      "text/plain": [
       "Epoch 1/15 - Validation:   0%|          | 0/702 [00:00<?, ?it/s]"
      ]
     },
     "metadata": {},
     "output_type": "display_data"
    },
    {
     "name": "stderr",
     "output_type": "stream",
     "text": [
      "/tmp/ipykernel_4261/2001459881.py:82: FutureWarning: `torch.cuda.amp.autocast(args...)` is deprecated. Please use `torch.amp.autocast('cuda', args...)` instead.\n",
      "  with autocast():\n"
     ]
    },
    {
     "name": "stdout",
     "output_type": "stream",
     "text": [
      "Epoch 01 | Train: Loss=0.4179, CosSim=0.4030, L2=1.0741, CosLoss=0.5970, MSELoss=0.0001\n",
      "       | Val: Loss=0.3571, CosSim=0.4899, L2=0.9889, CosLoss=0.5101, MSELoss=0.0001\n",
      "*** New best model saved! Cosine Similarity: 0.4899 ***\n"
     ]
    },
    {
     "data": {
      "application/vnd.jupyter.widget-view+json": {
       "model_id": "8428cfdcad3d47bd9092e43532b4e0f4",
       "version_major": 2,
       "version_minor": 0
      },
      "text/plain": [
       "Epoch 2/15 - Training:   0%|          | 0/2805 [00:00<?, ?it/s]"
      ]
     },
     "metadata": {},
     "output_type": "display_data"
    },
    {
     "data": {
      "application/vnd.jupyter.widget-view+json": {
       "model_id": "a9f6d4523c234ee38ee4385c295af896",
       "version_major": 2,
       "version_minor": 0
      },
      "text/plain": [
       "Epoch 2/15 - Validation:   0%|          | 0/702 [00:00<?, ?it/s]"
      ]
     },
     "metadata": {},
     "output_type": "display_data"
    },
    {
     "name": "stdout",
     "output_type": "stream",
     "text": [
      "Epoch 02 | Train: Loss=0.3517, CosSim=0.4976, L2=0.9831, CosLoss=0.5024, MSELoss=0.0001\n",
      "       | Val: Loss=0.3251, CosSim=0.5356, L2=0.9414, CosLoss=0.4644, MSELoss=0.0001\n",
      "*** New best model saved! Cosine Similarity: 0.5356 ***\n"
     ]
    },
    {
     "data": {
      "application/vnd.jupyter.widget-view+json": {
       "model_id": "6f5a74b32f2c49db956a2c07b811fd0a",
       "version_major": 2,
       "version_minor": 0
      },
      "text/plain": [
       "Epoch 3/15 - Training:   0%|          | 0/2805 [00:00<?, ?it/s]"
      ]
     },
     "metadata": {},
     "output_type": "display_data"
    },
    {
     "data": {
      "application/vnd.jupyter.widget-view+json": {
       "model_id": "4ec20e720d2e45eca32288cb3feba20b",
       "version_major": 2,
       "version_minor": 0
      },
      "text/plain": [
       "Epoch 3/15 - Validation:   0%|          | 0/702 [00:00<?, ?it/s]"
      ]
     },
     "metadata": {},
     "output_type": "display_data"
    },
    {
     "name": "stdout",
     "output_type": "stream",
     "text": [
      "Epoch 03 | Train: Loss=0.3256, CosSim=0.5349, L2=0.9439, CosLoss=0.4651, MSELoss=0.0001\n",
      "       | Val: Loss=0.3018, CosSim=0.5690, L2=0.9054, CosLoss=0.4310, MSELoss=0.0001\n",
      "*** New best model saved! Cosine Similarity: 0.5690 ***\n"
     ]
    },
    {
     "data": {
      "application/vnd.jupyter.widget-view+json": {
       "model_id": "c2d2b38abe644560b1df851b312fb823",
       "version_major": 2,
       "version_minor": 0
      },
      "text/plain": [
       "Epoch 4/15 - Training:   0%|          | 0/2805 [00:00<?, ?it/s]"
      ]
     },
     "metadata": {},
     "output_type": "display_data"
    },
    {
     "data": {
      "application/vnd.jupyter.widget-view+json": {
       "model_id": "8244d49de50f441da287bde73a6a28f4",
       "version_major": 2,
       "version_minor": 0
      },
      "text/plain": [
       "Epoch 4/15 - Validation:   0%|          | 0/702 [00:00<?, ?it/s]"
      ]
     },
     "metadata": {},
     "output_type": "display_data"
    },
    {
     "name": "stdout",
     "output_type": "stream",
     "text": [
      "Epoch 04 | Train: Loss=0.3055, CosSim=0.5636, L2=0.9138, CosLoss=0.4364, MSELoss=0.0001\n",
      "       | Val: Loss=0.2861, CosSim=0.5914, L2=0.8876, CosLoss=0.4086, MSELoss=0.0001\n",
      "*** New best model saved! Cosine Similarity: 0.5914 ***\n"
     ]
    },
    {
     "data": {
      "application/vnd.jupyter.widget-view+json": {
       "model_id": "fd1bd2aef9334c2ea7fbd2251586066e",
       "version_major": 2,
       "version_minor": 0
      },
      "text/plain": [
       "Epoch 5/15 - Training:   0%|          | 0/2805 [00:00<?, ?it/s]"
      ]
     },
     "metadata": {},
     "output_type": "display_data"
    },
    {
     "data": {
      "application/vnd.jupyter.widget-view+json": {
       "model_id": "39f3f7020fbb4e3c8d110e4f1a02fcb2",
       "version_major": 2,
       "version_minor": 0
      },
      "text/plain": [
       "Epoch 5/15 - Validation:   0%|          | 0/702 [00:00<?, ?it/s]"
      ]
     },
     "metadata": {},
     "output_type": "display_data"
    },
    {
     "name": "stdout",
     "output_type": "stream",
     "text": [
      "Epoch 05 | Train: Loss=0.2907, CosSim=0.5847, L2=0.8912, CosLoss=0.4153, MSELoss=0.0001\n",
      "       | Val: Loss=0.2809, CosSim=0.5988, L2=0.8702, CosLoss=0.4012, MSELoss=0.0001\n",
      "*** New best model saved! Cosine Similarity: 0.5988 ***\n"
     ]
    },
    {
     "data": {
      "application/vnd.jupyter.widget-view+json": {
       "model_id": "483fbfd542c44baa9e686e2fcb78f526",
       "version_major": 2,
       "version_minor": 0
      },
      "text/plain": [
       "Epoch 6/15 - Training:   0%|          | 0/2805 [00:00<?, ?it/s]"
      ]
     },
     "metadata": {},
     "output_type": "display_data"
    },
    {
     "data": {
      "application/vnd.jupyter.widget-view+json": {
       "model_id": "24a78c32c98a444d9d4728fa138ee630",
       "version_major": 2,
       "version_minor": 0
      },
      "text/plain": [
       "Epoch 6/15 - Validation:   0%|          | 0/702 [00:00<?, ?it/s]"
      ]
     },
     "metadata": {},
     "output_type": "display_data"
    },
    {
     "name": "stdout",
     "output_type": "stream",
     "text": [
      "Epoch 06 | Train: Loss=0.2791, CosSim=0.6013, L2=0.8728, CosLoss=0.3987, MSELoss=0.0001\n",
      "       | Val: Loss=0.2682, CosSim=0.6169, L2=0.8522, CosLoss=0.3831, MSELoss=0.0001\n",
      "*** New best model saved! Cosine Similarity: 0.6169 ***\n"
     ]
    },
    {
     "data": {
      "application/vnd.jupyter.widget-view+json": {
       "model_id": "f0465be211144663976dfb46adff3df8",
       "version_major": 2,
       "version_minor": 0
      },
      "text/plain": [
       "Epoch 7/15 - Training:   0%|          | 0/2805 [00:00<?, ?it/s]"
      ]
     },
     "metadata": {},
     "output_type": "display_data"
    },
    {
     "data": {
      "application/vnd.jupyter.widget-view+json": {
       "model_id": "faaf64b06ea14fd3855409ca992baa7a",
       "version_major": 2,
       "version_minor": 0
      },
      "text/plain": [
       "Epoch 7/15 - Validation:   0%|          | 0/702 [00:00<?, ?it/s]"
      ]
     },
     "metadata": {},
     "output_type": "display_data"
    },
    {
     "name": "stdout",
     "output_type": "stream",
     "text": [
      "Epoch 07 | Train: Loss=0.2704, CosSim=0.6138, L2=0.8587, CosLoss=0.3862, MSELoss=0.0001\n",
      "       | Val: Loss=0.2540, CosSim=0.6372, L2=0.8308, CosLoss=0.3628, MSELoss=0.0001\n",
      "*** New best model saved! Cosine Similarity: 0.6372 ***\n"
     ]
    },
    {
     "data": {
      "application/vnd.jupyter.widget-view+json": {
       "model_id": "4bcba0cdc48142e993676f9af5afc48e",
       "version_major": 2,
       "version_minor": 0
      },
      "text/plain": [
       "Epoch 8/15 - Training:   0%|          | 0/2805 [00:00<?, ?it/s]"
      ]
     },
     "metadata": {},
     "output_type": "display_data"
    },
    {
     "data": {
      "application/vnd.jupyter.widget-view+json": {
       "model_id": "9a1eb72ee7bd4270aa2c901ab44fb87b",
       "version_major": 2,
       "version_minor": 0
      },
      "text/plain": [
       "Epoch 8/15 - Validation:   0%|          | 0/702 [00:00<?, ?it/s]"
      ]
     },
     "metadata": {},
     "output_type": "display_data"
    },
    {
     "name": "stdout",
     "output_type": "stream",
     "text": [
      "Epoch 08 | Train: Loss=0.2622, CosSim=0.6255, L2=0.8457, CosLoss=0.3745, MSELoss=0.0001\n",
      "       | Val: Loss=0.2451, CosSim=0.6500, L2=0.8168, CosLoss=0.3500, MSELoss=0.0001\n",
      "*** New best model saved! Cosine Similarity: 0.6500 ***\n"
     ]
    },
    {
     "data": {
      "application/vnd.jupyter.widget-view+json": {
       "model_id": "c8c4a66e019c4003bed12c6a297bfa40",
       "version_major": 2,
       "version_minor": 0
      },
      "text/plain": [
       "Epoch 9/15 - Training:   0%|          | 0/2805 [00:00<?, ?it/s]"
      ]
     },
     "metadata": {},
     "output_type": "display_data"
    },
    {
     "data": {
      "application/vnd.jupyter.widget-view+json": {
       "model_id": "911d9bcf80254dbeb6004a95d2da62f6",
       "version_major": 2,
       "version_minor": 0
      },
      "text/plain": [
       "Epoch 9/15 - Validation:   0%|          | 0/702 [00:00<?, ?it/s]"
      ]
     },
     "metadata": {},
     "output_type": "display_data"
    },
    {
     "name": "stdout",
     "output_type": "stream",
     "text": [
      "Epoch 09 | Train: Loss=0.2552, CosSim=0.6354, L2=0.8344, CosLoss=0.3646, MSELoss=0.0001\n",
      "       | Val: Loss=0.2413, CosSim=0.6553, L2=0.8095, CosLoss=0.3447, MSELoss=0.0001\n",
      "*** New best model saved! Cosine Similarity: 0.6553 ***\n"
     ]
    },
    {
     "data": {
      "application/vnd.jupyter.widget-view+json": {
       "model_id": "c46a289c96b24181bb8f78c2ca75c9c0",
       "version_major": 2,
       "version_minor": 0
      },
      "text/plain": [
       "Epoch 10/15 - Training:   0%|          | 0/2805 [00:00<?, ?it/s]"
      ]
     },
     "metadata": {},
     "output_type": "display_data"
    },
    {
     "data": {
      "application/vnd.jupyter.widget-view+json": {
       "model_id": "0250f777b4604a389258a99b07cbae86",
       "version_major": 2,
       "version_minor": 0
      },
      "text/plain": [
       "Epoch 10/15 - Validation:   0%|          | 0/702 [00:00<?, ?it/s]"
      ]
     },
     "metadata": {},
     "output_type": "display_data"
    },
    {
     "name": "stdout",
     "output_type": "stream",
     "text": [
      "Epoch 10 | Train: Loss=0.2499, CosSim=0.6431, L2=0.8255, CosLoss=0.3569, MSELoss=0.0001\n",
      "       | Val: Loss=0.2381, CosSim=0.6599, L2=0.8042, CosLoss=0.3401, MSELoss=0.0001\n",
      "*** New best model saved! Cosine Similarity: 0.6599 ***\n"
     ]
    },
    {
     "data": {
      "application/vnd.jupyter.widget-view+json": {
       "model_id": "786e5379845a43438ed7bee060ead2eb",
       "version_major": 2,
       "version_minor": 0
      },
      "text/plain": [
       "Epoch 11/15 - Training:   0%|          | 0/2805 [00:00<?, ?it/s]"
      ]
     },
     "metadata": {},
     "output_type": "display_data"
    },
    {
     "data": {
      "application/vnd.jupyter.widget-view+json": {
       "model_id": "5078a827399646efbc5265481c7b3354",
       "version_major": 2,
       "version_minor": 0
      },
      "text/plain": [
       "Epoch 11/15 - Validation:   0%|          | 0/702 [00:00<?, ?it/s]"
      ]
     },
     "metadata": {},
     "output_type": "display_data"
    },
    {
     "name": "stdout",
     "output_type": "stream",
     "text": [
      "Epoch 11 | Train: Loss=0.2446, CosSim=0.6506, L2=0.8170, CosLoss=0.3494, MSELoss=0.0001\n",
      "       | Val: Loss=0.2358, CosSim=0.6631, L2=0.7986, CosLoss=0.3369, MSELoss=0.0001\n",
      "*** New best model saved! Cosine Similarity: 0.6631 ***\n"
     ]
    },
    {
     "data": {
      "application/vnd.jupyter.widget-view+json": {
       "model_id": "f54622f1fe5a43028fd6368b5c8ecdb7",
       "version_major": 2,
       "version_minor": 0
      },
      "text/plain": [
       "Epoch 12/15 - Training:   0%|          | 0/2805 [00:00<?, ?it/s]"
      ]
     },
     "metadata": {},
     "output_type": "display_data"
    },
    {
     "data": {
      "application/vnd.jupyter.widget-view+json": {
       "model_id": "a0d623817b6344258abb899f6e6bafe4",
       "version_major": 2,
       "version_minor": 0
      },
      "text/plain": [
       "Epoch 12/15 - Validation:   0%|          | 0/702 [00:00<?, ?it/s]"
      ]
     },
     "metadata": {},
     "output_type": "display_data"
    },
    {
     "name": "stdout",
     "output_type": "stream",
     "text": [
      "Epoch 12 | Train: Loss=0.2395, CosSim=0.6579, L2=0.8087, CosLoss=0.3421, MSELoss=0.0001\n",
      "       | Val: Loss=0.2416, CosSim=0.6549, L2=0.8042, CosLoss=0.3451, MSELoss=0.0001\n"
     ]
    },
    {
     "data": {
      "application/vnd.jupyter.widget-view+json": {
       "model_id": "1bdc96e057e94d12a76026a689d19297",
       "version_major": 2,
       "version_minor": 0
      },
      "text/plain": [
       "Epoch 13/15 - Training:   0%|          | 0/2805 [00:00<?, ?it/s]"
      ]
     },
     "metadata": {},
     "output_type": "display_data"
    },
    {
     "data": {
      "application/vnd.jupyter.widget-view+json": {
       "model_id": "6792d1af9ade4824be9f7c9ccfe7c221",
       "version_major": 2,
       "version_minor": 0
      },
      "text/plain": [
       "Epoch 13/15 - Validation:   0%|          | 0/702 [00:00<?, ?it/s]"
      ]
     },
     "metadata": {},
     "output_type": "display_data"
    },
    {
     "name": "stdout",
     "output_type": "stream",
     "text": [
      "Epoch 13 | Train: Loss=0.2354, CosSim=0.6638, L2=0.8018, CosLoss=0.3362, MSELoss=0.0001\n",
      "       | Val: Loss=0.2294, CosSim=0.6724, L2=0.7885, CosLoss=0.3276, MSELoss=0.0001\n",
      "*** New best model saved! Cosine Similarity: 0.6724 ***\n"
     ]
    },
    {
     "data": {
      "application/vnd.jupyter.widget-view+json": {
       "model_id": "134d91e73a0e426e8dfe46dcf51f1708",
       "version_major": 2,
       "version_minor": 0
      },
      "text/plain": [
       "Epoch 14/15 - Training:   0%|          | 0/2805 [00:00<?, ?it/s]"
      ]
     },
     "metadata": {},
     "output_type": "display_data"
    },
    {
     "data": {
      "application/vnd.jupyter.widget-view+json": {
       "model_id": "8df33ddd24a9488b88587e206bf9346b",
       "version_major": 2,
       "version_minor": 0
      },
      "text/plain": [
       "Epoch 14/15 - Validation:   0%|          | 0/702 [00:00<?, ?it/s]"
      ]
     },
     "metadata": {},
     "output_type": "display_data"
    },
    {
     "name": "stdout",
     "output_type": "stream",
     "text": [
      "Epoch 14 | Train: Loss=0.2307, CosSim=0.6705, L2=0.7947, CosLoss=0.3295, MSELoss=0.0001\n",
      "       | Val: Loss=0.2235, CosSim=0.6807, L2=0.7791, CosLoss=0.3193, MSELoss=0.0001\n",
      "*** New best model saved! Cosine Similarity: 0.6807 ***\n"
     ]
    },
    {
     "data": {
      "application/vnd.jupyter.widget-view+json": {
       "model_id": "4ba74bbe694f4c0fbe846ee32268b677",
       "version_major": 2,
       "version_minor": 0
      },
      "text/plain": [
       "Epoch 15/15 - Training:   0%|          | 0/2805 [00:00<?, ?it/s]"
      ]
     },
     "metadata": {},
     "output_type": "display_data"
    },
    {
     "data": {
      "application/vnd.jupyter.widget-view+json": {
       "model_id": "46f4cd0b21df4ba69a610384078ea2d8",
       "version_major": 2,
       "version_minor": 0
      },
      "text/plain": [
       "Epoch 15/15 - Validation:   0%|          | 0/702 [00:00<?, ?it/s]"
      ]
     },
     "metadata": {},
     "output_type": "display_data"
    },
    {
     "name": "stdout",
     "output_type": "stream",
     "text": [
      "Epoch 15 | Train: Loss=0.2254, CosSim=0.6781, L2=0.7868, CosLoss=0.3219, MSELoss=0.0001\n",
      "       | Val: Loss=0.2207, CosSim=0.6847, L2=0.7750, CosLoss=0.3153, MSELoss=0.0001\n",
      "*** New best model saved! Cosine Similarity: 0.6847 ***\n"
     ]
    }
   ],
   "source": [
    "device = torch.device('cuda' if torch.cuda.is_available() else 'cpu')\n",
    "student = StudentResNet18(embedding_size=512, dropout=0.2).to(device)\n",
    "criterion = CombinedLoss(alpha=0.7, beta=0.3, temperature=4.0)\n",
    "optimizer = optim.AdamW(student.parameters(), lr=5e-5, weight_decay=1e-4, betas=(0.9, 0.999), eps=1e-8)\n",
    "\n",
    "results = train(student, device, train_loader, val_loader, optimizer, criterion, epochs=15, resume=False)"
   ]
  },
  {
   "cell_type": "code",
   "execution_count": 20,
   "id": "ace5bac8",
   "metadata": {},
   "outputs": [
    {
     "name": "stdout",
     "output_type": "stream",
     "text": [
      "Resumed training from epoch 9 (best val loss: 0.1300)\n"
     ]
    },
    {
     "name": "stderr",
     "output_type": "stream",
     "text": [
      "/tmp/ipykernel_9846/2064167286.py:14: FutureWarning: `torch.cuda.amp.GradScaler(args...)` is deprecated. Please use `torch.amp.GradScaler('cuda', args...)` instead.\n",
      "  scaler = GradScaler()\n"
     ]
    },
    {
     "data": {
      "application/vnd.jupyter.widget-view+json": {
       "model_id": "4a0fd7de099146fe90c72c65f468750f",
       "version_major": 2,
       "version_minor": 0
      },
      "text/plain": [
       "Epoch 10/15 - Training:   0%|          | 0/2805 [00:00<?, ?it/s]"
      ]
     },
     "metadata": {},
     "output_type": "display_data"
    },
    {
     "name": "stderr",
     "output_type": "stream",
     "text": [
      "/tmp/ipykernel_9846/2064167286.py:34: FutureWarning: `torch.cuda.amp.autocast(args...)` is deprecated. Please use `torch.amp.autocast('cuda', args...)` instead.\n",
      "  with autocast():  # <<< Mixed precision aktif di sini\n"
     ]
    },
    {
     "data": {
      "application/vnd.jupyter.widget-view+json": {
       "model_id": "bc97882fc1f545a2988044034cbf8e29",
       "version_major": 2,
       "version_minor": 0
      },
      "text/plain": [
       "Epoch 10/15 - Validation:   0%|          | 0/702 [00:00<?, ?it/s]"
      ]
     },
     "metadata": {},
     "output_type": "display_data"
    },
    {
     "name": "stderr",
     "output_type": "stream",
     "text": [
      "/tmp/ipykernel_9846/2064167286.py:69: FutureWarning: `torch.cuda.amp.autocast(args...)` is deprecated. Please use `torch.amp.autocast('cuda', args...)` instead.\n",
      "  with autocast():  # <<< pakai AMP juga di validasi\n"
     ]
    },
    {
     "name": "stdout",
     "output_type": "stream",
     "text": [
      "Epoch 09 | Train Loss: 0.1087, CosSim: 0.7835, L2: 0.6436 || Val Loss: 0.1272, CosSim: 0.7466, L2: 0.6946\n"
     ]
    },
    {
     "data": {
      "application/vnd.jupyter.widget-view+json": {
       "model_id": "7a490525723447da9a6eeb25fada5685",
       "version_major": 2,
       "version_minor": 0
      },
      "text/plain": [
       "Epoch 11/15 - Training:   0%|          | 0/2805 [00:00<?, ?it/s]"
      ]
     },
     "metadata": {},
     "output_type": "display_data"
    },
    {
     "data": {
      "application/vnd.jupyter.widget-view+json": {
       "model_id": "82d39523b6d3483ba157f13e673b1923",
       "version_major": 2,
       "version_minor": 0
      },
      "text/plain": [
       "Epoch 11/15 - Validation:   0%|          | 0/702 [00:00<?, ?it/s]"
      ]
     },
     "metadata": {},
     "output_type": "display_data"
    },
    {
     "name": "stdout",
     "output_type": "stream",
     "text": [
      "Epoch 10 | Train Loss: 0.1060, CosSim: 0.7889, L2: 0.6355 || Val Loss: 0.1265, CosSim: 0.7481, L2: 0.6922\n"
     ]
    },
    {
     "data": {
      "application/vnd.jupyter.widget-view+json": {
       "model_id": "5c374d92ca9845eb82f182f56b18909d",
       "version_major": 2,
       "version_minor": 0
      },
      "text/plain": [
       "Epoch 12/15 - Training:   0%|          | 0/2805 [00:00<?, ?it/s]"
      ]
     },
     "metadata": {},
     "output_type": "display_data"
    },
    {
     "data": {
      "application/vnd.jupyter.widget-view+json": {
       "model_id": "63a8afa694d54981b6a31d78e9db6f24",
       "version_major": 2,
       "version_minor": 0
      },
      "text/plain": [
       "Epoch 12/15 - Validation:   0%|          | 0/702 [00:00<?, ?it/s]"
      ]
     },
     "metadata": {},
     "output_type": "display_data"
    },
    {
     "name": "stdout",
     "output_type": "stream",
     "text": [
      "Epoch 11 | Train Loss: 0.1069, CosSim: 0.7871, L2: 0.6383 || Val Loss: 0.1269, CosSim: 0.7472, L2: 0.6937\n"
     ]
    },
    {
     "data": {
      "application/vnd.jupyter.widget-view+json": {
       "model_id": "2681a091373248cf9e87168474fcd755",
       "version_major": 2,
       "version_minor": 0
      },
      "text/plain": [
       "Epoch 13/15 - Training:   0%|          | 0/2805 [00:00<?, ?it/s]"
      ]
     },
     "metadata": {},
     "output_type": "display_data"
    },
    {
     "data": {
      "application/vnd.jupyter.widget-view+json": {
       "model_id": "9808741dcc1945f6bf6b0c3fe36ca36e",
       "version_major": 2,
       "version_minor": 0
      },
      "text/plain": [
       "Epoch 13/15 - Validation:   0%|          | 0/702 [00:00<?, ?it/s]"
      ]
     },
     "metadata": {},
     "output_type": "display_data"
    },
    {
     "name": "stdout",
     "output_type": "stream",
     "text": [
      "Epoch 12 | Train Loss: 0.1104, CosSim: 0.7800, L2: 0.6491 || Val Loss: 0.1292, CosSim: 0.7427, L2: 0.7006\n"
     ]
    },
    {
     "data": {
      "application/vnd.jupyter.widget-view+json": {
       "model_id": "7ca938740a964386b182fe6f91ad75ac",
       "version_major": 2,
       "version_minor": 0
      },
      "text/plain": [
       "Epoch 14/15 - Training:   0%|          | 0/2805 [00:00<?, ?it/s]"
      ]
     },
     "metadata": {},
     "output_type": "display_data"
    },
    {
     "data": {
      "application/vnd.jupyter.widget-view+json": {
       "model_id": "397d3411f7fa4d2896d9556661731a20",
       "version_major": 2,
       "version_minor": 0
      },
      "text/plain": [
       "Epoch 14/15 - Validation:   0%|          | 0/702 [00:00<?, ?it/s]"
      ]
     },
     "metadata": {},
     "output_type": "display_data"
    },
    {
     "name": "stdout",
     "output_type": "stream",
     "text": [
      "Epoch 13 | Train Loss: 0.1164, CosSim: 0.7681, L2: 0.6666 || Val Loss: 0.1345, CosSim: 0.7321, L2: 0.7153\n",
      "Early stopping triggered\n"
     ]
    }
   ],
   "source": [
    "device = torch.device('cuda' if torch.cuda.is_available() else 'cpu')\n",
    "student = StudentResNet18(embedding_size=512, dropout=0.3).to(device)\n",
    "criterion_cos = nn.CosineEmbeddingLoss()\n",
    "criterion_mse = nn.MSELoss()\n",
    "optimizer = optim.Adam(student.parameters(), lr=1e-4, weight_decay=5e-4)\n",
    "ckpt_path = './checkpoint.pth'\n",
    "\n",
    "results = train(student, device, train_loader, val_loader, optimizer, criterion_cos, criterion_mse, epochs=15, resume=True, ckpt_path=ckpt_path)"
   ]
  }
 ],
 "metadata": {
  "kernelspec": {
   "display_name": "resnet34-distill",
   "language": "python",
   "name": "python3"
  },
  "language_info": {
   "codemirror_mode": {
    "name": "ipython",
    "version": 3
   },
   "file_extension": ".py",
   "mimetype": "text/x-python",
   "name": "python",
   "nbconvert_exporter": "python",
   "pygments_lexer": "ipython3",
   "version": "3.12.3"
  }
 },
 "nbformat": 4,
 "nbformat_minor": 5
}
